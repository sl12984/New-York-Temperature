{
  "nbformat": 4,
  "nbformat_minor": 0,
  "metadata": {
    "colab": {
      "provenance": []
    },
    "kernelspec": {
      "name": "python3",
      "display_name": "Python 3"
    },
    "language_info": {
      "name": "python"
    }
  },
  "cells": [
    {
      "cell_type": "code",
      "execution_count": 67,
      "metadata": {
        "colab": {
          "base_uri": "https://localhost:8080/"
        },
        "id": "406Yd-dMD5o_",
        "outputId": "6e3f2e22-9d7b-415a-b9f7-2d47fb0e2a1c"
      },
      "outputs": [
        {
          "output_type": "stream",
          "name": "stdout",
          "text": [
            "The highest temperature in NYC last week was 57.92°F\n"
          ]
        }
      ],
      "source": [
        "import requests\n",
        "from datetime import datetime, timedelta\n",
        "\n",
        "def get_highest_temperature(api_token, station_id):\n",
        "    # Define the endpoint for the NOAA API\n",
        "    url = \"https://www.ncdc.noaa.gov/cdo-web/api/v2/data\"\n",
        "\n",
        "    # Calculate the date range for the last week\n",
        "    end_date = datetime.now()\n",
        "    start_date = end_date - timedelta(days=7)\n",
        "\n",
        "    # Format dates for the API request\n",
        "    start_date_str = start_date.strftime('%Y-%m-%d')\n",
        "    end_date_str = end_date.strftime('%Y-%m-%d')\n",
        "\n",
        "    # Parameters for the API request\n",
        "    params = {\n",
        "        \"datasetid\": \"GHCND\",  # Global Historical Climatology Network Daily\n",
        "        \"stationid\": station_id,  # Station ID for a station in NYC\n",
        "        \"startdate\": \"2023-12-15\",\n",
        "        \"enddate\": \"2023-12-15\",\n",
        "        \"datatypeid\": \"TMAX\",  # Maximum temperature\n",
        "        \"units\": \"metric\",\n",
        "        \"limit\": 1000\n",
        "    }\n",
        "\n",
        "    headers = {\n",
        "        \"token\": api_token  # NOAA API token\n",
        "    }\n",
        "\n",
        "    # Make the API request\n",
        "    response = requests.get(url, headers=headers, params=params)\n",
        "    data = response.json()\n",
        "\n",
        "    # Find the highest temperature\n",
        "    highest_temp = max(record['value'] for record in data['results'])\n",
        "\n",
        "    return highest_temp\n",
        "\n",
        "\n",
        "api_token = \"bjBerSTEhmMyXQSFTYYaVUPuIBCymLYa\"\n",
        "\n",
        "station_id = \"GHCND:USW00094728\"\n",
        "\n",
        "# Get the highest temperature\n",
        "highest_temperature = get_highest_temperature(api_token, station_id)\n",
        "print(f\"The highest temperature in NYC last week was {1.8*highest_temperature+32}°F\")"
      ]
    },
    {
      "cell_type": "code",
      "source": [
        "import requests\n",
        "from bs4 import BeautifulSoup\n",
        "from datetime import datetime, timedelta\n",
        "\n",
        "def get_daily_max_temp(url):\n",
        "    response = requests.get(url)\n",
        "    if response.status_code != 200:\n",
        "        return None\n",
        "\n",
        "    soup = BeautifulSoup(response.text, 'html.parser')\n",
        "\n",
        "    # Find and extract the temperature data\n",
        "    # This will depend on the specific structure of the page\n",
        "    temps = soup.find_all('span', {'class': 'temp'})  # This is an example, adjust based on actual webpage\n",
        "    max_temp = max([int(temp.text.replace('°C', '')) for temp in temps])\n",
        "\n",
        "    return max_temp\n",
        "\n",
        "def get_highest_temp(base_url, days):\n",
        "    highest_temp = []\n",
        "    start_date = datetime.now() - timedelta(days=days)\n",
        "\n",
        "    for _ in range(days):\n",
        "        date_str = start_date.strftime('%Y-%m-%d')\n",
        "        url = f\"{base_url}/{date_str}\"\n",
        "        daily_max = get_daily_max_temp(url)\n",
        "\n",
        "        if daily_max is not None:\n",
        "            highest_temp.append([highest_temp,date_str])\n",
        "\n",
        "        start_date += timedelta(days=1)\n",
        "\n",
        "    return highest_temp\n",
        "\n",
        "# Base URL for the historical data (needs to be the correct format for timeanddate.com)\n",
        "base_url = 'https://www.timeanddate.com/weather/usa/new-york/historic'\n",
        "\n",
        "# Get the highest temperature of the last 300 days\n",
        "highest_temperature = get_highest_temp(base_url, 300)\n",
        "#print(highest_temperature[0])"
      ],
      "metadata": {
        "id": "p4NeCUplFAjI"
      },
      "execution_count": 9,
      "outputs": []
    },
    {
      "cell_type": "code",
      "source": [
        "import requests\n",
        "\n",
        "# From Dec 11 to Dec 15\n",
        "\n",
        "# Link: https://www.timeanddate.com/weather/usa/new-york/historic\n",
        "data1 = [48, 45, 46, 39, 57]\n",
        "\n",
        "# Link: https://www.wunderground.com/history/weekly/us/ny/new-york-city/KLGA/date/2023-12-11\n",
        "data2 = [46, 44, 46, 41, 59]\n",
        "\n",
        "# Link: https://www.localconditions.com/weather-new-york-new-york/10001/past.php\n",
        "data3 = [48.02, 44.06, 46.94, 39.92, 57.92]\n",
        "\n",
        "# Data from the script above from NOAA\n",
        "data4 = [50, 44.06, 46.94, 41.0, 57.92]\n",
        "\n",
        "# It's hard to directly get the data using scripts so I recorded the data on the websites."
      ],
      "metadata": {
        "id": "u9FIP385oaVl"
      },
      "execution_count": null,
      "outputs": []
    },
    {
      "cell_type": "code",
      "source": [
        "# We use the most direct data of NCEI to build the model\n",
        "import requests\n",
        "from datetime import datetime, timedelta\n",
        "\n",
        "def get_highest_temperature(api_token, station_id):\n",
        "    # Define the endpoint for the NOAA API\n",
        "    url = \"https://www.ncdc.noaa.gov/cdo-web/api/v2/data\"\n",
        "\n",
        "    # Calculate the date range for the last week\n",
        "    end_date = datetime.now()\n",
        "    # start_date = end_date - timedelta(days=7)\n",
        "\n",
        "    # Format dates for the API request\n",
        "    # start_date_str = start_date.strftime('%Y-%m-%d')\n",
        "    # end_date_str = end_date.strftime('%Y-%m-%d')\n",
        "\n",
        "    # Get the data from previous days, while if the period is longer it will produce mistakes\n",
        "    highest_temps = []\n",
        "\n",
        "    for i in range(30):\n",
        "      end_date = datetime.today() - timedelta(days=4)\n",
        "      start_date = end_date - timedelta(days=30-i)\n",
        "      start_date_str = start_date.strftime('%Y-%m-%d')\n",
        "\n",
        "    # Parameters for the API request\n",
        "      params = {\n",
        "        \"datasetid\": \"GHCND\",  # Global Historical Climatology Network Daily\n",
        "        \"stationid\": station_id,  # Station ID for a station in NYC\n",
        "        \"startdate\": start_date_str,\n",
        "        \"enddate\": start_date_str,\n",
        "        \"datatypeid\": \"TMAX\",  # Maximum temperature\n",
        "        \"units\": \"metric\",\n",
        "        \"limit\": 1000\n",
        "      }\n",
        "\n",
        "      headers = {\n",
        "        \"token\": api_token  # NOAA API token\n",
        "      }\n",
        "\n",
        "      # Make the API request\n",
        "      response = requests.get(url, headers=headers, params=params)\n",
        "      data = response.json()\n",
        "\n",
        "      # Find the highest temperature\n",
        "      highest_temp = max(record['value'] for record in data['results'])\n",
        "      # Change to F\n",
        "      highest_temps.append(1.8*highest_temp+32)\n",
        "\n",
        "    return highest_temps\n",
        "\n",
        "# Use your NOAA API token here\n",
        "api_token = \"bjBerSTEhmMyXQSFTYYaVUPuIBCymLYa\"\n",
        "# Station ID for a station in NYC (e.g., \"GHCND:USW00094728\" for Central Park)\n",
        "station_id = \"GHCND:USW00094728\"\n",
        "\n",
        "# Get the highest temperature\n",
        "highest_temperatures = get_highest_temperature(api_token, station_id)\n",
        "#print(f\"The highest temperature in NYC last week was {1.8*highest_temperature+32}°F\")\n",
        "print(highest_temperatures)\n"
      ],
      "metadata": {
        "colab": {
          "base_uri": "https://localhost:8080/"
        },
        "id": "j7TY2hWWANp3",
        "outputId": "019bebcf-0ad2-4340-fc5b-c2a3c0993674"
      },
      "execution_count": 31,
      "outputs": [
        {
          "output_type": "stream",
          "name": "stdout",
          "text": [
            "[53.06, 64.94, 66.92, 62.96, 55.040000000000006, 46.04, 48.019999999999996, 53.96, 51.980000000000004, 51.08, 39.92, 55.94, 55.94, 41.0, 37.94, 51.08, 51.08, 60.08, 53.06, 53.96, 42.980000000000004, 42.980000000000004, 39.019999999999996, 51.08, 59.0, 60.980000000000004, 50.0, 44.06, 46.94, 41.0]\n"
          ]
        }
      ]
    },
    {
      "cell_type": "code",
      "source": [
        "import pandas as pd\n",
        "import numpy as np\n",
        "from sklearn.model_selection import train_test_split\n",
        "from sklearn.linear_model import LinearRegression\n",
        "from sklearn.ensemble import RandomForestRegressor\n",
        "# from sklearn.cluster import KMeans\n",
        "# from sklearn.neighbors import KNeighborsClassifier\n",
        "\n",
        "from sklearn.metrics import mean_squared_error\n",
        "\n",
        "# Create Training Datasets\n",
        "X = []\n",
        "for i in range(30):\n",
        "  X.append(i)\n",
        "X=np.array(X).reshape(-1,1)\n",
        "y = np.array(highest_temperatures).reshape(-1,1)\n",
        "X_train, X_test, y_train, y_test = train_test_split(X, y, test_size=0.2, random_state=0)\n",
        "# model = LinearRegression()\n",
        "# model = KNeighborsClassifier(n_neighbors=3)\n",
        "# Use Decision Tree and Random Forest\n",
        "model = RandomForestRegressor(n_estimators=100, random_state=0)\n",
        "\n",
        "# Train the model\n",
        "model.fit(X_train, y_train)\n",
        "y_pred = model.predict(X_test)\n",
        "\n",
        "# Evaluate the model\n",
        "mse = mean_squared_error(y_test, y_pred)\n",
        "print(f\"Mean Squared Error: {mse}\")\n",
        "# The MSE might be a little big as the number of dates are not quite enough"
      ],
      "metadata": {
        "colab": {
          "base_uri": "https://localhost:8080/"
        },
        "id": "XN_PAc2iX-S5",
        "outputId": "f78df940-5d0c-4699-c9cc-3fdda7ee2cfb"
      },
      "execution_count": 69,
      "outputs": [
        {
          "output_type": "stream",
          "name": "stdout",
          "text": [
            "Mean Squared Error: 67.85330093999951\n"
          ]
        },
        {
          "output_type": "stream",
          "name": "stderr",
          "text": [
            "<ipython-input-69-51265565c5e9>:24: DataConversionWarning: A column-vector y was passed when a 1d array was expected. Please change the shape of y to (n_samples,), for example using ravel().\n",
            "  model.fit(X_train, y_train)\n"
          ]
        }
      ]
    },
    {
      "cell_type": "code",
      "source": [
        "import matplotlib.pyplot as plt\n",
        "plt.scatter(X,y)\n",
        "plt.xlabel(\"Date\")\n",
        "plt.ylabel(\"Highest Temperature\")\n",
        "plt.show()"
      ],
      "metadata": {
        "colab": {
          "base_uri": "https://localhost:8080/",
          "height": 449
        },
        "id": "S66yfvT2gVK7",
        "outputId": "f9717e35-1099-4b3c-dcd3-4e484677008c"
      },
      "execution_count": 70,
      "outputs": [
        {
          "output_type": "display_data",
          "data": {
            "text/plain": [
              "<Figure size 640x480 with 1 Axes>"
            ],
            "image/png": "[encoded data removed]"
          },
          "metadata": {}
        }
      ]
    },
    {
      "cell_type": "code",
      "source": [
        "# Predict the Following Highest Temperatures From the Dataset\n",
        "model.fit(X, y)\n",
        "X2=np.array([30]).reshape(-1,1)\n",
        "y_pred2 = model.predict(X2)\n",
        "print(y_pred2)\n",
        "# Using this model, as the temperature changes too frequently, it just predicts a number for the date after that\n",
        "# Actually it's 57.92 while prediction result is 42.7334, and we add that to our training set"
      ],
      "metadata": {
        "colab": {
          "base_uri": "https://localhost:8080/"
        },
        "id": "vc85c4IgoIqS",
        "outputId": "ea80bb89-9508-44f3-cb16-e1c38cbe9746"
      },
      "execution_count": 71,
      "outputs": [
        {
          "output_type": "stream",
          "name": "stderr",
          "text": [
            "<ipython-input-71-0dbbeec15711>:2: DataConversionWarning: A column-vector y was passed when a 1d array was expected. Please change the shape of y to (n_samples,), for example using ravel().\n",
            "  model.fit(X, y)\n"
          ]
        },
        {
          "output_type": "stream",
          "name": "stdout",
          "text": [
            "[42.7334]\n"
          ]
        }
      ]
    },
    {
      "cell_type": "code",
      "source": [
        "# Add new data into training set\n",
        "X = np.append(X,[30]).reshape(-1,1)\n",
        "print(X)\n",
        "y = np.append(y,[57.92]).reshape(-1,1)\n",
        "model.fit(X, y)\n",
        "X3=np.array([31]).reshape(-1,1)\n",
        "y_pred3 = model.predict(X3)\n",
        "print(y_pred3)\n",
        "# The result is 51.9206, Closer to actual result 54;"
      ],
      "metadata": {
        "colab": {
          "base_uri": "https://localhost:8080/"
        },
        "id": "7QvA-xmttXNK",
        "outputId": "bd0ffbcb-aa7c-44bf-df6e-da3a244e2c2a"
      },
      "execution_count": 72,
      "outputs": [
        {
          "output_type": "stream",
          "name": "stdout",
          "text": [
            "[[ 0]\n",
            " [ 1]\n",
            " [ 2]\n",
            " [ 3]\n",
            " [ 4]\n",
            " [ 5]\n",
            " [ 6]\n",
            " [ 7]\n",
            " [ 8]\n",
            " [ 9]\n",
            " [10]\n",
            " [11]\n",
            " [12]\n",
            " [13]\n",
            " [14]\n",
            " [15]\n",
            " [16]\n",
            " [17]\n",
            " [18]\n",
            " [19]\n",
            " [20]\n",
            " [21]\n",
            " [22]\n",
            " [23]\n",
            " [24]\n",
            " [25]\n",
            " [26]\n",
            " [27]\n",
            " [28]\n",
            " [29]\n",
            " [30]]\n",
            "[51.9206]\n"
          ]
        },
        {
          "output_type": "stream",
          "name": "stderr",
          "text": [
            "<ipython-input-72-3aa1bdf09b0b>:5: DataConversionWarning: A column-vector y was passed when a 1d array was expected. Please change the shape of y to (n_samples,), for example using ravel().\n",
            "  model.fit(X, y)\n"
          ]
        }
      ]
    },
    {
      "cell_type": "code",
      "source": [
        "# Add new data into training set\n",
        "X = np.append(X,[31]).reshape(-1,1)\n",
        "print(X)\n",
        "y = np.append(y,[54]).reshape(-1,1)\n",
        "model.fit(X, y)\n",
        "X4=np.array([32]).reshape(-1,1)\n",
        "y_pred4 = model.predict(X4)\n",
        "print(y_pred4)\n",
        "# The result is 53, while the actual result is 59;"
      ],
      "metadata": {
        "colab": {
          "base_uri": "https://localhost:8080/"
        },
        "id": "9VqqwJF6yCkr",
        "outputId": "95f97d21-6aff-40d7-f1ea-0fe1b3c017fa"
      },
      "execution_count": 73,
      "outputs": [
        {
          "output_type": "stream",
          "name": "stdout",
          "text": [
            "[[ 0]\n",
            " [ 1]\n",
            " [ 2]\n",
            " [ 3]\n",
            " [ 4]\n",
            " [ 5]\n",
            " [ 6]\n",
            " [ 7]\n",
            " [ 8]\n",
            " [ 9]\n",
            " [10]\n",
            " [11]\n",
            " [12]\n",
            " [13]\n",
            " [14]\n",
            " [15]\n",
            " [16]\n",
            " [17]\n",
            " [18]\n",
            " [19]\n",
            " [20]\n",
            " [21]\n",
            " [22]\n",
            " [23]\n",
            " [24]\n",
            " [25]\n",
            " [26]\n",
            " [27]\n",
            " [28]\n",
            " [29]\n",
            " [30]\n",
            " [31]]\n",
            "[52.9946]\n"
          ]
        },
        {
          "output_type": "stream",
          "name": "stderr",
          "text": [
            "<ipython-input-73-62585f5b3253>:5: DataConversionWarning: A column-vector y was passed when a 1d array was expected. Please change the shape of y to (n_samples,), for example using ravel().\n",
            "  model.fit(X, y)\n"
          ]
        }
      ]
    },
    {
      "cell_type": "code",
      "source": [
        "# Add new data into training set\n",
        "X = np.append(X,[32]).reshape(-1,1)\n",
        "print(X)\n",
        "y = np.append(y,[59]).reshape(-1,1)\n",
        "model.fit(X, y)\n",
        "X5=np.array([33]).reshape(-1,1)\n",
        "y_pred5 = model.predict(X5)\n",
        "print(y_pred5)\n",
        "# The result is 56.7322, while the actual result is 63;"
      ],
      "metadata": {
        "colab": {
          "base_uri": "https://localhost:8080/"
        },
        "id": "w7_pCUdMypG9",
        "outputId": "1c94dc8c-2659-4be6-d663-b0649d18074d"
      },
      "execution_count": 74,
      "outputs": [
        {
          "output_type": "stream",
          "name": "stdout",
          "text": [
            "[[ 0]\n",
            " [ 1]\n",
            " [ 2]\n",
            " [ 3]\n",
            " [ 4]\n",
            " [ 5]\n",
            " [ 6]\n",
            " [ 7]\n",
            " [ 8]\n",
            " [ 9]\n",
            " [10]\n",
            " [11]\n",
            " [12]\n",
            " [13]\n",
            " [14]\n",
            " [15]\n",
            " [16]\n",
            " [17]\n",
            " [18]\n",
            " [19]\n",
            " [20]\n",
            " [21]\n",
            " [22]\n",
            " [23]\n",
            " [24]\n",
            " [25]\n",
            " [26]\n",
            " [27]\n",
            " [28]\n",
            " [29]\n",
            " [30]\n",
            " [31]\n",
            " [32]]\n"
          ]
        },
        {
          "output_type": "stream",
          "name": "stderr",
          "text": [
            "<ipython-input-74-f0ac7af0bb0a>:5: DataConversionWarning: A column-vector y was passed when a 1d array was expected. Please change the shape of y to (n_samples,), for example using ravel().\n",
            "  model.fit(X, y)\n"
          ]
        },
        {
          "output_type": "stream",
          "name": "stdout",
          "text": [
            "[56.7322]\n"
          ]
        }
      ]
    },
    {
      "cell_type": "code",
      "source": [],
      "metadata": {
        "id": "OL6zupm_60dH"
      },
      "execution_count": null,
      "outputs": []
    },
    {
      "cell_type": "code",
      "source": [
        "# Add new data into training set\n",
        "X = np.append(X,[33]).reshape(-1,1)\n",
        "print(X)\n",
        "y = np.append(y,[63]).reshape(-1,1)\n",
        "model.fit(X, y)\n",
        "X6=np.array([34]).reshape(-1,1)\n",
        "y_pred6 = model.predict(X6)\n",
        "print(y_pred6)\n",
        "# The result is 60.6668， while the actual result is 43;"
      ],
      "metadata": {
        "colab": {
          "base_uri": "https://localhost:8080/"
        },
        "id": "vFiUV2sCzB0U",
        "outputId": "2baf7796-e591-4099-99cb-779c1c592167"
      },
      "execution_count": 75,
      "outputs": [
        {
          "output_type": "stream",
          "name": "stdout",
          "text": [
            "[[ 0]\n",
            " [ 1]\n",
            " [ 2]\n",
            " [ 3]\n",
            " [ 4]\n",
            " [ 5]\n",
            " [ 6]\n",
            " [ 7]\n",
            " [ 8]\n",
            " [ 9]\n",
            " [10]\n",
            " [11]\n",
            " [12]\n",
            " [13]\n",
            " [14]\n",
            " [15]\n",
            " [16]\n",
            " [17]\n",
            " [18]\n",
            " [19]\n",
            " [20]\n",
            " [21]\n",
            " [22]\n",
            " [23]\n",
            " [24]\n",
            " [25]\n",
            " [26]\n",
            " [27]\n",
            " [28]\n",
            " [29]\n",
            " [30]\n",
            " [31]\n",
            " [32]\n",
            " [33]]\n"
          ]
        },
        {
          "output_type": "stream",
          "name": "stderr",
          "text": [
            "<ipython-input-75-046b60042cde>:5: DataConversionWarning: A column-vector y was passed when a 1d array was expected. Please change the shape of y to (n_samples,), for example using ravel().\n",
            "  model.fit(X, y)\n"
          ]
        },
        {
          "output_type": "stream",
          "name": "stdout",
          "text": [
            "[60.6668]\n"
          ]
        }
      ]
    },
    {
      "cell_type": "code",
      "source": [
        "# Plot the Graph of Predictions and actual temperatures\n",
        "dates = [15, 16, 17, 18, 19]\n",
        "preds = [42.7334, 51.9206, 53, 56.7322, 60.6668]\n",
        "temps = [58, 54, 59, 63, 43]\n",
        "plt.scatter(dates, preds, c='red')\n",
        "plt.scatter(dates, temps, c='blue')\n",
        "plt.show()"
      ],
      "metadata": {
        "colab": {
          "base_uri": "https://localhost:8080/",
          "height": 430
        },
        "id": "5xyzHYYe67Y4",
        "outputId": "2905e637-aa21-4d00-957f-96bcfbbb8685"
      },
      "execution_count": 79,
      "outputs": [
        {
          "output_type": "display_data",
          "data": {
            "text/plain": [
              "<Figure size 640x480 with 1 Axes>"
            ],
            "image/png": "[encoded data removed]"
          },
          "metadata": {}
        }
      ]
    }
  ]
}